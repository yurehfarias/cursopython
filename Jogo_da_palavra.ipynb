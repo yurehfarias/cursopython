{
  "nbformat": 4,
  "nbformat_minor": 0,
  "metadata": {
    "colab": {
      "provenance": [],
      "authorship_tag": "ABX9TyPQC1eVE6hBvGBEjaK6KhM0",
      "include_colab_link": true
    },
    "kernelspec": {
      "name": "python3",
      "display_name": "Python 3"
    },
    "language_info": {
      "name": "python"
    }
  },
  "cells": [
    {
      "cell_type": "markdown",
      "metadata": {
        "id": "view-in-github",
        "colab_type": "text"
      },
      "source": [
        "<a href=\"https://colab.research.google.com/github/yurehfarias/cursopython/blob/main/Jogo_da_palavra.ipynb\" target=\"_parent\"><img src=\"https://colab.research.google.com/assets/colab-badge.svg\" alt=\"Open In Colab\"/></a>"
      ]
    },
    {
      "cell_type": "code",
      "execution_count": null,
      "metadata": {
        "id": "feJDs8GXuk-S"
      },
      "outputs": [],
      "source": []
    },
    {
      "cell_type": "code",
      "source": [
        "#Jogo da palavra secreta\n",
        "#a palavra escolhida e a quantidade de letras acertadas estao aqui\n",
        "\n",
        "palavra_secreta = \"bisteca\"\n",
        "letras_acertadas = \"\"\n",
        "numero_tentativas = 0\n",
        "\n",
        "#enquanto\n",
        "while True:\n",
        "  letra_digitada = input(\"Digite uma letra: \")\n",
        "  numero_tentativas += 1\n",
        "\n",
        "#esse if eh para caso voce digite mais de uma letra\n",
        "  if len(letra_digitada) > 1:\n",
        "    print(\"Digite apenas uma letra.\")\n",
        "    continue\n",
        "\n",
        "#se voce digitar uma letra que esta na palavra secreta, essa letra sera imprimida\n",
        "#ate voce acertar todas e a palavra ficar completa.\n",
        "  if letra_digitada in palavra_secreta:\n",
        "      letras_acertadas += letra_digitada\n",
        "\n",
        "#se a letra secreta for digitada, concatene ela a var \"palavra_formada\",\n",
        "# caso nao for, exiba um *\n",
        "  palavra_formada = \"\"\n",
        "  for letra_secreta in palavra_secreta:\n",
        "    if letra_secreta in letras_acertadas:\n",
        "      palavra_formada += letra_secreta\n",
        "    else:\n",
        "      palavra_formada += \"*\"\n",
        "\n",
        "  print(\"Palavra formada:\",palavra_formada)\n",
        "\n",
        "#ira exibir que voce ganhou, qual foi a palavra e quantidade de tentativas.\n",
        "  if palavra_formada == palavra_secreta:\n",
        "    print(\"Voce ganhou!! Parabens!!\")\n",
        "    print(\"A palavra era\", palavra_formada)\n",
        "    print(\"Tentativas:\", numero_tentativas)\n",
        "    letras_acertadas = \"\"\n",
        "    numero_tentativas = 0"
      ],
      "metadata": {
        "id": "ZDhvU7T0OiFJ"
      },
      "execution_count": null,
      "outputs": []
    }
  ]
}
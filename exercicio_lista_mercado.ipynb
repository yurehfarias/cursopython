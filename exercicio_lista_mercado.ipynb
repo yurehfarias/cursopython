{
  "cells": [
    {
      "cell_type": "markdown",
      "metadata": {
        "id": "view-in-github",
        "colab_type": "text"
      },
      "source": [
        "<a href=\"https://colab.research.google.com/github/yurehfarias/cursopython/blob/main/exercicio_lista_mercado.ipynb\" target=\"_parent\"><img src=\"https://colab.research.google.com/assets/colab-badge.svg\" alt=\"Open In Colab\"/></a>"
      ]
    },
    {
      "cell_type": "code",
      "execution_count": null,
      "metadata": {
        "colab": {
          "base_uri": "https://localhost:8080/"
        },
        "id": "Ecn4DrLlVcZl",
        "outputId": "0b0658f8-2f61-497f-fae4-30fd1187b30b"
      },
      "outputs": [
        {
          "name": "stdout",
          "output_type": "stream",
          "text": [
            "Mounted at /content/drive\n",
            "Cloning into 'cursopython'...\n",
            "remote: Enumerating objects: 8, done.\u001b[K\n",
            "remote: Counting objects: 100% (8/8), done.\u001b[K\n",
            "remote: Compressing objects: 100% (8/8), done.\u001b[K\n",
            "remote: Total 8 (delta 1), reused 0 (delta 0), pack-reused 0\u001b[K\n",
            "Receiving objects: 100% (8/8), 4.69 KiB | 4.69 MiB/s, done.\n",
            "Resolving deltas: 100% (1/1), done.\n"
          ]
        }
      ],
      "source": [
        "from google.colab import drive\n",
        "drive.mount('/content/drive')\n",
        "\n",
        "!git config --global user.email \"yhenrique5647@gmail.com\"\n",
        "!git config --global user.name \"yurehfarias\"\n",
        "\n",
        "!git clone https://github.com/yurehfarias/cursopython"
      ]
    },
    {
      "cell_type": "code",
      "execution_count": null,
      "metadata": {
        "colab": {
          "base_uri": "https://localhost:8080/"
        },
        "id": "o67IOz0W7gLg",
        "outputId": "0ebb653b-3a52-49fb-c73f-49d8485e0551"
      },
      "outputs": [
        {
          "name": "stdout",
          "output_type": "stream",
          "text": [
            "Que horas sao?15\n",
            "Boa tarde, são exatamente 15 horas da tarde.\n"
          ]
        }
      ],
      "source": [
        "hora = input('Que horas sao?')\n",
        "\n",
        "if int(hora) < 12:\n",
        "    print(f'Bom dia, são exatamente {hora} horas da manhã.')\n",
        "\n",
        "elif int(hora) < 18:\n",
        "    print(f'Boa tarde, são exatamente {hora} horas da tarde.')\n",
        "\n",
        "elif int(hora) > 18:\n",
        "   print(f'Boa noite, são exatamente {hora} horas da noite.')"
      ]
    },
    {
      "cell_type": "code",
      "execution_count": null,
      "metadata": {
        "colab": {
          "base_uri": "https://localhost:8080/"
        },
        "id": "eExBGUh3IvYc",
        "outputId": "95401b93-8eba-47fc-9691-bb6848ff2029"
      },
      "outputs": [
        {
          "name": "stdout",
          "output_type": "stream",
          "text": [
            "Que horas sao?15\n",
            "Boa tarde\n"
          ]
        }
      ],
      "source": [
        "#segunda opcao do programa das horas\n",
        "\n",
        "entrada = input(\"Que horas sao?\")\n",
        "\n",
        "try:\n",
        "  hora = int(entrada)\n",
        "\n",
        "  if hora >= 0 and hora <= 11:\n",
        "    print('Bom dia')\n",
        "  elif hora >= 12 and hora <= 17:\n",
        "    print('Boa tarde')\n",
        "  elif hora >= 18 and hora <= 23:\n",
        "    print('Boa noite.')\n",
        "except:\n",
        "  print(\"nao sei que hora eh essa\")\n"
      ]
    },
    {
      "cell_type": "code",
      "execution_count": null,
      "metadata": {
        "colab": {
          "base_uri": "https://localhost:8080/"
        },
        "id": "nMqBUrVp-sIz",
        "outputId": "68fd2c24-21de-4ed6-f4af-8d0cad524aed"
      },
      "outputs": [
        {
          "name": "stdout",
          "output_type": "stream",
          "text": [
            "Digite seu nome: anderson\n",
            "Seu nome eh muito grande\n"
          ]
        }
      ],
      "source": [
        "nome = input(\"Digite seu nome: \")\n",
        "numero_de_letras = len(nome)\n",
        "\n",
        "if numero_de_letras < 5:\n",
        "  print('Seu nome eh pequeno')\n",
        "\n",
        "elif numero_de_letras < 7:\n",
        "  print('Seu nome eh normal')\n",
        "\n",
        "else:\n",
        "  print('Seu nome eh muito grande')"
      ]
    },
    {
      "cell_type": "code",
      "execution_count": null,
      "metadata": {
        "colab": {
          "base_uri": "https://localhost:8080/"
        },
        "id": "qb4cZBBmKsam",
        "outputId": "514756ed-e378-4ecd-9d41-8a4866625f34"
      },
      "outputs": [
        {
          "name": "stdout",
          "output_type": "stream",
          "text": [
            "Digite seu nome: ezequias\n",
            "Seu nome eh muito grande\n"
          ]
        }
      ],
      "source": [
        "#outra opcao do codigo sobre tamanho do nome\n",
        "\n",
        "nome = input('Digite seu nome: ')\n",
        "tamanho_nome = len(nome)\n",
        "\n",
        "if tamanho_nome > 1:\n",
        "  if tamanho_nome <= 4:\n",
        "    print(\"Seu nome eh curto\")\n",
        "  elif tamanho_nome <= 5 and tamanho_nome <= 6:\n",
        "    print(\"Seu nome eh normal\")\n",
        "  else:\n",
        "    print(\"Seu nome eh muito grande\")\n",
        "else:\n",
        "  print('Digite pelo menos uma letra')\n"
      ]
    },
    {
      "cell_type": "code",
      "execution_count": null,
      "metadata": {
        "colab": {
          "base_uri": "https://localhost:8080/"
        },
        "id": "iFDVmM1bFTll",
        "outputId": "bbe29ebf-9761-4b79-e642-d048934151c9"
      },
      "outputs": [
        {
          "name": "stdout",
          "output_type": "stream",
          "text": [
            "Digite seu numero: 4237094723\n",
            "O numero que voce digitou eh impar\n"
          ]
        }
      ],
      "source": [
        "entrada = input(\"Digite seu numero: \")\n",
        "\n",
        "if entrada.isdigit():\n",
        "  entrada_int = int(entrada)\n",
        "  par_impar = entrada_int % 2 == 0\n",
        "  print(f'O numero que voce digitou eh {\"par\" if par_impar else \"impar\"}')\n",
        "else:\n",
        "  print(\"voce nao digitou um numero inteiro\")\n"
      ]
    },
    {
      "cell_type": "code",
      "execution_count": null,
      "metadata": {
        "id": "q1vTA8yzLF2i"
      },
      "outputs": [],
      "source": [
        "#exercicio para treino do while com iteracao, colocando um \"*\" apos cada letra.\n",
        "i = 0\n",
        "nome = \"yure farias\"\n",
        "nome_novo = ''\n",
        "\n",
        "while i < len(nome):\n",
        "   letra = nome[i]\n",
        "   nome_novo += f'*{letra}'\n",
        "   i += 1\n",
        "\n",
        "print(nome_novo)\n"
      ]
    },
    {
      "cell_type": "code",
      "execution_count": null,
      "metadata": {
        "colab": {
          "base_uri": "https://localhost:8080/",
          "height": 512
        },
        "id": "jgURPXu8SCNC",
        "outputId": "d999555a-c8ed-4bd6-9a58-dc121491679e"
      },
      "outputs": [
        {
          "name": "stdout",
          "output_type": "stream",
          "text": [
            "Primeiro valor: 27,3\n",
            "Segundo valor: 13,5\n",
            "Digite o operador (+, -, /, *): /\n",
            "Um ou ambos os numeros digitados sao invalidos\n",
            "Primeiro valor: 27.3\n",
            "Segundo valor: 13.5\n",
            "Digite o operador (+, -, /, *): /\n",
            "Estou calculando seu resultado, aguarde um momento.\n",
            "27.3 / 13.5= 2.022222222222222\n"
          ]
        },
        {
          "ename": "KeyboardInterrupt",
          "evalue": "Interrupted by user",
          "output_type": "error",
          "traceback": [
            "\u001b[0;31m---------------------------------------------------------------------------\u001b[0m",
            "\u001b[0;31mKeyboardInterrupt\u001b[0m                         Traceback (most recent call last)",
            "\u001b[0;32m<ipython-input-11-d0595848e42e>\u001b[0m in \u001b[0;36m<cell line: 3>\u001b[0;34m()\u001b[0m\n\u001b[1;32m     46\u001b[0m       \u001b[0mprint\u001b[0m\u001b[0;34m(\u001b[0m\u001b[0;34mf\"{num_01_float} / {num_02_float}=\"\u001b[0m\u001b[0;34m,\u001b[0m\u001b[0mnum_01_float\u001b[0m \u001b[0;34m/\u001b[0m \u001b[0mnum_02_float\u001b[0m\u001b[0;34m)\u001b[0m\u001b[0;34m\u001b[0m\u001b[0;34m\u001b[0m\u001b[0m\n\u001b[1;32m     47\u001b[0m \u001b[0;34m\u001b[0m\u001b[0m\n\u001b[0;32m---> 48\u001b[0;31m     \u001b[0msair\u001b[0m \u001b[0;34m=\u001b[0m \u001b[0minput\u001b[0m\u001b[0;34m(\u001b[0m\u001b[0;34m'Quer sair? [s]im '\u001b[0m\u001b[0;34m)\u001b[0m\u001b[0;34m.\u001b[0m\u001b[0mlower\u001b[0m\u001b[0;34m(\u001b[0m\u001b[0;34m)\u001b[0m\u001b[0;34m.\u001b[0m\u001b[0mstartswith\u001b[0m\u001b[0;34m(\u001b[0m\u001b[0;34m\"s\"\u001b[0m\u001b[0;34m)\u001b[0m\u001b[0;34m\u001b[0m\u001b[0;34m\u001b[0m\u001b[0m\n\u001b[0m\u001b[1;32m     49\u001b[0m \u001b[0;34m\u001b[0m\u001b[0m\n\u001b[1;32m     50\u001b[0m     \u001b[0;32mif\u001b[0m \u001b[0msair\u001b[0m \u001b[0;32mis\u001b[0m \u001b[0;32mTrue\u001b[0m\u001b[0;34m:\u001b[0m\u001b[0;34m\u001b[0m\u001b[0;34m\u001b[0m\u001b[0m\n",
            "\u001b[0;32m/usr/local/lib/python3.10/dist-packages/ipykernel/kernelbase.py\u001b[0m in \u001b[0;36mraw_input\u001b[0;34m(self, prompt)\u001b[0m\n\u001b[1;32m    849\u001b[0m                 \u001b[0;34m\"raw_input was called, but this frontend does not support input requests.\"\u001b[0m\u001b[0;34m\u001b[0m\u001b[0;34m\u001b[0m\u001b[0m\n\u001b[1;32m    850\u001b[0m             )\n\u001b[0;32m--> 851\u001b[0;31m         return self._input_request(str(prompt),\n\u001b[0m\u001b[1;32m    852\u001b[0m             \u001b[0mself\u001b[0m\u001b[0;34m.\u001b[0m\u001b[0m_parent_ident\u001b[0m\u001b[0;34m,\u001b[0m\u001b[0;34m\u001b[0m\u001b[0;34m\u001b[0m\u001b[0m\n\u001b[1;32m    853\u001b[0m             \u001b[0mself\u001b[0m\u001b[0;34m.\u001b[0m\u001b[0m_parent_header\u001b[0m\u001b[0;34m,\u001b[0m\u001b[0;34m\u001b[0m\u001b[0;34m\u001b[0m\u001b[0m\n",
            "\u001b[0;32m/usr/local/lib/python3.10/dist-packages/ipykernel/kernelbase.py\u001b[0m in \u001b[0;36m_input_request\u001b[0;34m(self, prompt, ident, parent, password)\u001b[0m\n\u001b[1;32m    893\u001b[0m             \u001b[0;32mexcept\u001b[0m \u001b[0mKeyboardInterrupt\u001b[0m\u001b[0;34m:\u001b[0m\u001b[0;34m\u001b[0m\u001b[0;34m\u001b[0m\u001b[0m\n\u001b[1;32m    894\u001b[0m                 \u001b[0;31m# re-raise KeyboardInterrupt, to truncate traceback\u001b[0m\u001b[0;34m\u001b[0m\u001b[0;34m\u001b[0m\u001b[0m\n\u001b[0;32m--> 895\u001b[0;31m                 \u001b[0;32mraise\u001b[0m \u001b[0mKeyboardInterrupt\u001b[0m\u001b[0;34m(\u001b[0m\u001b[0;34m\"Interrupted by user\"\u001b[0m\u001b[0;34m)\u001b[0m \u001b[0;32mfrom\u001b[0m \u001b[0;32mNone\u001b[0m\u001b[0;34m\u001b[0m\u001b[0;34m\u001b[0m\u001b[0m\n\u001b[0m\u001b[1;32m    896\u001b[0m             \u001b[0;32mexcept\u001b[0m \u001b[0mException\u001b[0m \u001b[0;32mas\u001b[0m \u001b[0me\u001b[0m\u001b[0;34m:\u001b[0m\u001b[0;34m\u001b[0m\u001b[0;34m\u001b[0m\u001b[0m\n\u001b[1;32m    897\u001b[0m                 \u001b[0mself\u001b[0m\u001b[0;34m.\u001b[0m\u001b[0mlog\u001b[0m\u001b[0;34m.\u001b[0m\u001b[0mwarning\u001b[0m\u001b[0;34m(\u001b[0m\u001b[0;34m\"Invalid Message:\"\u001b[0m\u001b[0;34m,\u001b[0m \u001b[0mexc_info\u001b[0m\u001b[0;34m=\u001b[0m\u001b[0;32mTrue\u001b[0m\u001b[0;34m)\u001b[0m\u001b[0;34m\u001b[0m\u001b[0;34m\u001b[0m\u001b[0m\n",
            "\u001b[0;31mKeyboardInterrupt\u001b[0m: Interrupted by user"
          ]
        }
      ],
      "source": [
        "#Exercício da calculadora com While\n",
        "\n",
        "while True:\n",
        "    numero_1 = input('Primeiro valor: ')\n",
        "    numero_2 = input('Segundo valor: ')\n",
        "    operador = input(\"Digite o operador (+, -, /, *): \")\n",
        "\n",
        "    numeros_validos = None\n",
        "    num_01_float = 0\n",
        "    num_02_float = 0\n",
        "\n",
        "    try:\n",
        "        num_01_float = float(numero_1)\n",
        "        num_02_float = float(numero_2)\n",
        "        numeros_validos = True\n",
        "\n",
        "    except ValueError:\n",
        "      numeros_validos = None\n",
        "      print(\"Um ou ambos os numeros digitados sao invalidos\")\n",
        "      continue\n",
        "\n",
        "    operadores_permitidos = \"+-/*\"\n",
        "\n",
        "  # Check if the operator is valid\n",
        "    if operador not in operadores_permitidos:\n",
        "      print(\"Operador invalido\")\n",
        "      continue\n",
        "\n",
        "    #caso digite mais de um operador\n",
        "      if len(operador) > 1:\n",
        "        print(\"Digite apenas um operador\")\n",
        "        continue\n",
        "\n",
        "    print(\"Estou calculando seu resultado, aguarde um momento.\")\n",
        "\n",
        "    if operador == \"+\":\n",
        "      print(f\"{num_01_float} + {num_02_float}=\",num_01_float + num_02_float)\n",
        "\n",
        "    elif operador == \"-\":\n",
        "      print(f\"{num_01_float} - {num_02_float}=\",num_01_float - num_02_float)\n",
        "\n",
        "    elif operador == \"*\":\n",
        "      print(f\"{num_01_float} * {num_02_float}=\",num_01_float * num_02_float)\n",
        "\n",
        "    elif operador == \"/\":\n",
        "      print(f\"{num_01_float} / {num_02_float}=\",num_01_float / num_02_float)\n",
        "\n",
        "    sair = input('Quer sair? [s]im ').lower().startswith(\"s\")\n",
        "\n",
        "    if sair is True:\n",
        "      break"
      ]
    },
    {
      "cell_type": "code",
      "execution_count": null,
      "metadata": {
        "colab": {
          "base_uri": "https://localhost:8080/"
        },
        "id": "qJ5Hu4i7Iv6F",
        "outputId": "f7b35bce-4b15-4886-a3a8-9ee4ec896539"
      },
      "outputs": [
        {
          "name": "stdout",
          "output_type": "stream",
          "text": [
            "A letra que apareceu mais vezes foi 'a' que apareceu 10x\n"
          ]
        }
      ],
      "source": [
        "frase = \"O Python eh uma linguagem de programacao multiparadigma. Python foi criado por Guido van Rossum.\"\n",
        "\n",
        "i = 0\n",
        "apareceu_mais_vezes = 0\n",
        "letra_apareceu_mais_vezes = \"\"\n",
        "while i < len(frase):\n",
        "    letra_atual = frase[i] # a letra atual eh a q vai estar mais vezes no texto\n",
        "\n",
        "    if letra_atual == \" \":\n",
        "      i += 1\n",
        "      continue\n",
        "\n",
        "    qtd_atual = frase.count(letra_atual)\n",
        "\n",
        "   #se a quantidade de vezes que a letra aparecer for maior\n",
        "    #do que a quantidade atual, a condicao sera executada.\n",
        "    if apareceu_mais_vezes <= qtd_atual:\n",
        "      apareceu_mais_vezes = qtd_atual\n",
        "      letra_apareceu_mais_vezes = letra_atual\n",
        "\n",
        "    i += 1\n",
        "\n",
        "print(\n",
        "    \"A letra que apareceu mais vezes foi\",\n",
        "    f\"'{letra_apareceu_mais_vezes}'\",\n",
        "    \"que apareceu\",\n",
        "    f\"{apareceu_mais_vezes}x\"\n",
        ")\n"
      ]
    },
    {
      "cell_type": "code",
      "execution_count": null,
      "metadata": {
        "colab": {
          "base_uri": "https://localhost:8080/"
        },
        "id": "ZDhvU7T0OiFJ",
        "outputId": "266a1ca1-fb57-4cda-ed7a-293b98f2c966"
      },
      "outputs": [
        {
          "name": "stdout",
          "output_type": "stream",
          "text": [
            "Palavra formada: *******\n",
            "Palavra formada: b******\n",
            "Palavra formada: b*****a\n",
            "Palavra formada: bi****a\n",
            "Palavra formada: bi****a\n",
            "Palavra formada: bi***ca\n",
            "Palavra formada: bi***ca\n",
            "Palavra formada: bi**eca\n",
            "Palavra formada: bis*eca\n",
            "Palavra formada: bis*eca\n",
            "Palavra formada: bisteca\n",
            "Voce ganhou!! Parabens!!\n",
            "A palavra era bisteca\n",
            "Tentativas: 11\n"
          ]
        }
      ],
      "source": [
        "#Jogo da palavra secreta\n",
        "#a palavra escolhida e a quantidade de letras acertadas estao aqui\n",
        "\n",
        "palavra_secreta = \"bisteca\"\n",
        "letras_acertadas = \"\"\n",
        "numero_tentativas = 0\n",
        "\n",
        "#enquanto\n",
        "while True:\n",
        "  letra_digitada = input(\"Digite uma letra: \")\n",
        "  numero_tentativas += 1\n",
        "\n",
        "#esse if eh para caso voce digite mais de uma letra\n",
        "  if len(letra_digitada) > 1:\n",
        "    print(\"Digite apenas uma letra.\")\n",
        "    continue\n",
        "\n",
        "#se voce digitar uma letra que esta na palavra secreta, essa letra sera imprimida\n",
        "#ate voce acertar todas e a palavra ficar completa.\n",
        "  if letra_digitada in palavra_secreta:\n",
        "      letras_acertadas += letra_digitada\n",
        "\n",
        "#se a letra secreta for digitada, concatene ela a var \"palavra_formada\",\n",
        "# caso nao for, exiba um *\n",
        "  palavra_formada = \"\"\n",
        "  for letra_secreta in palavra_secreta:\n",
        "    if letra_secreta in letras_acertadas:\n",
        "      palavra_formada += letra_secreta\n",
        "    else:\n",
        "      palavra_formada += \"*\"\n",
        "\n",
        "  print(\"Palavra formada:\",palavra_formada)\n",
        "\n",
        "#ira exibir que voce ganhou, qual foi a palavra e quantidade de tentativas.\n",
        "  if palavra_formada == palavra_secreta:\n",
        "    print(\"Voce ganhou!! Parabens!!\")\n",
        "    print(\"A palavra era\", palavra_formada)\n",
        "    print(\"Tentativas:\", numero_tentativas)\n",
        "    letras_acertadas = \"\"\n",
        "    numero_tentativas = 0"
      ]
    },
    {
      "cell_type": "code",
      "execution_count": null,
      "metadata": {
        "colab": {
          "base_uri": "https://localhost:8080/"
        },
        "id": "-iY76Uz2EMG8",
        "outputId": "a84709ee-52aa-4cc0-87c4-b17f9e734317"
      },
      "outputs": [
        {
          "name": "stdout",
          "output_type": "stream",
          "text": [
            "0 maria\n",
            "1 luiz\n",
            "2 pedro\n",
            "3 Marcos\n"
          ]
        }
      ],
      "source": [
        "#exercicio de listas para aparecer os indices e ao lado os nomes\n",
        "\n",
        "lista = [\"maria\", \"luiz\", \"pedro\"]\n",
        "lista.append(\"Marcos\")\n",
        "i = range(len(lista))\n",
        "\n",
        "for indice in i:\n",
        "  print(indice, lista[indice])"
      ]
    },
    {
      "cell_type": "code",
      "execution_count": null,
      "metadata": {
        "colab": {
          "base_uri": "https://localhost:8080/"
        },
        "id": "Uo-5cRjI4h_l",
        "outputId": "d0d3981c-65df-47ca-9d83-d248c55b2888"
      },
      "outputs": [
        {
          "name": "stdout",
          "output_type": "stream",
          "text": [
            "0 maria\n",
            "1 helena\n",
            "2 Luiz\n",
            "3 Joao\n"
          ]
        }
      ],
      "source": [
        "#desempacotamento e tuplas\n",
        "lista = [\"maria\", \"helena\", \"Luiz\"]\n",
        "lista.append(\"Joao\")\n",
        "\n",
        "lista_enumerada = enumerate(lista)\n",
        "\n",
        "\n",
        "#como usar o enumerate diretamente pelo for e colocando da mesma forma do exercicio acima\n",
        "#vai ficar separado cada indice e nome\n",
        "for indice, nome in enumerate(lista):\n",
        "    print(indice, nome)\n"
      ]
    },
    {
      "cell_type": "code",
      "execution_count": null,
      "metadata": {
        "colab": {
          "background_save": true,
          "base_uri": "https://localhost:8080/"
        },
        "id": "4MPCT_OdEvC7",
        "outputId": "683ea6ba-b2f0-475d-d66e-2229a1c9ce8b"
      },
      "outputs": [
        {
          "output_type": "stream",
          "name": "stdout",
          "text": [
            "Selecione uma opcao\n",
            "[i]nserir [a]pagar [l]istar i\n",
            "Valor: limao\n",
            "Selecione uma opcao\n",
            "[i]nserir [a]pagar [l]istar i\n",
            "Valor: pera\n",
            "Selecione uma opcao\n",
            "[i]nserir [a]pagar [l]istar l\n",
            "0 limao\n",
            "1 pera\n",
            "Selecione uma opcao\n",
            "[i]nserir [a]pagar [l]istar a\n",
            "Escolha o indice para apagar: 0\n",
            "Nao foi possivel apagar esse indice\n",
            "Selecione uma opcao\n",
            "[i]nserir [a]pagar [l]istar i\n",
            "Valor: cafe\n",
            "Selecione uma opcao\n",
            "[i]nserir [a]pagar [l]istar i\n",
            "Valor: maracuja\n",
            "Selecione uma opcao\n",
            "[i]nserir [a]pagar [l]istar i\n",
            "Valor: torrada\n",
            "Selecione uma opcao\n",
            "[i]nserir [a]pagar [l]istar l\n",
            "0 limao\n",
            "1 pera\n",
            "2 cafe\n",
            "3 maracuja\n",
            "4 torrada\n",
            "Selecione uma opcao\n",
            "[i]nserir [a]pagar [l]istar a\n",
            "Escolha o indice para apagar: 3\n",
            "Nao foi possivel apagar esse indice\n",
            "Selecione uma opcao\n"
          ]
        }
      ],
      "source": [
        "import os\n",
        "lista = []\n",
        "\n",
        "while True:\n",
        "  #mensagem que deve aparecer para o usuario dando as opcoes\n",
        "  print(\"Selecione uma opcao\")\n",
        "  opcao = input(\"[i]nserir [a]pagar [l]istar \")\n",
        "\n",
        "  #adicionar valor\n",
        "  if opcao == \"i\":\n",
        "    valor = input(\"Valor: \")\n",
        "    lista.append(valor)\n",
        "\n",
        "  #apagar valor\n",
        "  elif opcao == \"a\":\n",
        "    apagar = input(\"Escolha o indice para apagar: \")\n",
        "\n",
        "    try:\n",
        "      indice = int(indice)\n",
        "      if 0 <= indice < len(lista):\n",
        "          del lista[indice]\n",
        "    except:\n",
        "\n",
        "      print(\"Nao foi possivel apagar esse indice\")\n",
        "\n",
        "  #listar valor\n",
        "  elif opcao == \"l\":\n",
        "\n",
        "      if len(lista) == 0:\n",
        "        print(\"Nada para listar\")\n",
        "\n",
        "      for i, valor in enumerate(lista):\n",
        "        print(i, valor)\n",
        "  else:\n",
        "    print(\"Por favor, escolha i, a ou l\")\n",
        "\n"
      ]
    }
  ],
  "metadata": {
    "colab": {
      "provenance": [],
      "authorship_tag": "ABX9TyPJ1asmpLr5j2lIrQnw1MCx",
      "include_colab_link": true
    },
    "kernelspec": {
      "display_name": "Python 3",
      "name": "python3"
    },
    "language_info": {
      "name": "python"
    }
  },
  "nbformat": 4,
  "nbformat_minor": 0
}
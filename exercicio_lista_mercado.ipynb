{
  "nbformat": 4,
  "nbformat_minor": 0,
  "metadata": {
    "colab": {
      "provenance": [],
      "authorship_tag": "ABX9TyO5BVyVTES8WvxvedXpUBsp",
      "include_colab_link": true
    },
    "kernelspec": {
      "name": "python3",
      "display_name": "Python 3"
    },
    "language_info": {
      "name": "python"
    }
  },
  "cells": [
    {
      "cell_type": "markdown",
      "metadata": {
        "id": "view-in-github",
        "colab_type": "text"
      },
      "source": [
        "<a href=\"https://colab.research.google.com/github/yurehfarias/cursopython/blob/main/exercicio_lista_mercado.ipynb\" target=\"_parent\"><img src=\"https://colab.research.google.com/assets/colab-badge.svg\" alt=\"Open In Colab\"/></a>"
      ]
    },
    {
      "cell_type": "code",
      "execution_count": null,
      "metadata": {
        "id": "NgVr3tRMy3zT"
      },
      "outputs": [],
      "source": []
    },
    {
      "cell_type": "code",
      "execution_count": null,
      "metadata": {
        "colab": {
          "background_save": true,
          "base_uri": "https://localhost:8080/"
        },
        "id": "4MPCT_OdEvC7",
        "outputId": "683ea6ba-b2f0-475d-d66e-2229a1c9ce8b"
      },
      "outputs": [
        {
          "output_type": "stream",
          "name": "stdout",
          "text": [
            "Selecione uma opcao\n",
            "[i]nserir [a]pagar [l]istar i\n",
            "Valor: limao\n",
            "Selecione uma opcao\n",
            "[i]nserir [a]pagar [l]istar i\n",
            "Valor: pera\n",
            "Selecione uma opcao\n",
            "[i]nserir [a]pagar [l]istar l\n",
            "0 limao\n",
            "1 pera\n",
            "Selecione uma opcao\n",
            "[i]nserir [a]pagar [l]istar a\n",
            "Escolha o indice para apagar: 0\n",
            "Nao foi possivel apagar esse indice\n",
            "Selecione uma opcao\n",
            "[i]nserir [a]pagar [l]istar i\n",
            "Valor: cafe\n",
            "Selecione uma opcao\n",
            "[i]nserir [a]pagar [l]istar i\n",
            "Valor: maracuja\n",
            "Selecione uma opcao\n",
            "[i]nserir [a]pagar [l]istar i\n",
            "Valor: torrada\n",
            "Selecione uma opcao\n",
            "[i]nserir [a]pagar [l]istar l\n",
            "0 limao\n",
            "1 pera\n",
            "2 cafe\n",
            "3 maracuja\n",
            "4 torrada\n",
            "Selecione uma opcao\n",
            "[i]nserir [a]pagar [l]istar a\n",
            "Escolha o indice para apagar: 3\n",
            "Nao foi possivel apagar esse indice\n",
            "Selecione uma opcao\n"
          ]
        }
      ],
      "source": [
        "lista = []\n",
        "\n",
        "while True:\n",
        "  #mensagem que deve aparecer para o usuario dando as opcoes\n",
        "  print(\"Selecione uma opcao\")\n",
        "  opcao = input(\"[i]nserir [a]pagar [l]istar \")\n",
        "\n",
        "  #adicionar valor\n",
        "  if opcao == \"i\":\n",
        "    valor = input(\"Valor: \")\n",
        "    lista.append(valor)\n",
        "\n",
        "  #apagar valor\n",
        "  elif opcao == \"a\":\n",
        "    apagar = input(\"Escolha o indice para apagar: \")\n",
        "\n",
        "    try:\n",
        "      indice = int(apagar)\n",
        "      if 0 <= indice < len(lista):\n",
        "          del lista[indice]\n",
        "    except:\n",
        "\n",
        "      print(\"Nao foi possivel apagar esse indice\")\n",
        "\n",
        "    else:
        "\n",
        "      print("O indice foi apagado")
        "  #listar valor\n",
        "  elif opcao == \"l\":\n",
        "\n",
        "      if len(lista) == 0:\n",
        "        print(\"Nada para listar\")\n",
        "\n",
        "      for i, valor in enumerate(lista):\n",
        "        print(i, valor)\n",
        "  else:\n",
        "    print(\"Por favor, escolha i, a ou l\")\n",
        "\n"
      ]
    }
  ]
}

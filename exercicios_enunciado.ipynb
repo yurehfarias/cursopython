{
  "nbformat": 4,
  "nbformat_minor": 0,
  "metadata": {
    "colab": {
      "provenance": [],
      "authorship_tag": "ABX9TyMBARb3RaM9B9GPgs+M1Pmo",
      "include_colab_link": true
    },
    "kernelspec": {
      "name": "python3",
      "display_name": "Python 3"
    },
    "language_info": {
      "name": "python"
    }
  },
  "cells": [
    {
      "cell_type": "markdown",
      "metadata": {
        "id": "view-in-github",
        "colab_type": "text"
      },
      "source": [
        "<a href=\"https://colab.research.google.com/github/yurehfarias/cursopython/blob/main/exercicios_enunciado.ipynb\" target=\"_parent\"><img src=\"https://colab.research.google.com/assets/colab-badge.svg\" alt=\"Open In Colab\"/></a>"
      ]
    },
    {
      "cell_type": "code",
      "execution_count": 16,
      "metadata": {
        "colab": {
          "base_uri": "https://localhost:8080/"
        },
        "id": "o67IOz0W7gLg",
        "outputId": "0ebb653b-3a52-49fb-c73f-49d8485e0551"
      },
      "outputs": [
        {
          "output_type": "stream",
          "name": "stdout",
          "text": [
            "Que horas sao?15\n",
            "Boa tarde, são exatamente 15 horas da tarde.\n"
          ]
        }
      ],
      "source": [
        "hora = input('Que horas sao?')\n",
        "\n",
        "if int(hora) < 12:\n",
        "    print(f'Bom dia, são exatamente {hora} horas da manhã.')\n",
        "\n",
        "elif int(hora) < 18:\n",
        "    print(f'Boa tarde, são exatamente {hora} horas da tarde.')\n",
        "\n",
        "elif int(hora) > 18:\n",
        "   print(f'Boa noite, são exatamente {hora} horas da noite.')"
      ]
    },
    {
      "cell_type": "code",
      "source": [
        "#segunda opcao do programa das horas\n",
        "\n",
        "entrada = input(\"Que horas sao?\")\n",
        "\n",
        "try:\n",
        "  hora = int(entrada)\n",
        "\n",
        "  if hora >= 0 and hora <= 11:\n",
        "    print('Bom dia')\n",
        "  elif hora >= 12 and hora <= 17:\n",
        "    print('Boa tarde')\n",
        "  elif hora >= 18 and hora <= 23:\n",
        "    print('Boa noite.')\n",
        "except:\n",
        "  print(\"nao sei que hora eh essa\")\n"
      ],
      "metadata": {
        "colab": {
          "base_uri": "https://localhost:8080/"
        },
        "id": "eExBGUh3IvYc",
        "outputId": "95401b93-8eba-47fc-9691-bb6848ff2029"
      },
      "execution_count": 45,
      "outputs": [
        {
          "output_type": "stream",
          "name": "stdout",
          "text": [
            "Que horas sao?15\n",
            "Boa tarde\n"
          ]
        }
      ]
    },
    {
      "cell_type": "code",
      "source": [
        "nome = input(\"Digite seu nome: \")\n",
        "numero_de_letras = len(nome)\n",
        "\n",
        "if numero_de_letras < 5:\n",
        "  print('Seu nome eh pequeno')\n",
        "\n",
        "elif numero_de_letras < 7:\n",
        "  print('Seu nome eh normal')\n",
        "\n",
        "else:\n",
        "  print('Seu nome eh muito grande')"
      ],
      "metadata": {
        "colab": {
          "base_uri": "https://localhost:8080/"
        },
        "id": "nMqBUrVp-sIz",
        "outputId": "68fd2c24-21de-4ed6-f4af-8d0cad524aed"
      },
      "execution_count": 32,
      "outputs": [
        {
          "output_type": "stream",
          "name": "stdout",
          "text": [
            "Digite seu nome: anderson\n",
            "Seu nome eh muito grande\n"
          ]
        }
      ]
    },
    {
      "cell_type": "code",
      "source": [
        "#outra opcao do codigo sobre tamanho do nome\n",
        "\n",
        "nome = input('Digite seu nome: ')\n",
        "tamanho_nome = len(nome)\n",
        "\n",
        "if tamanho_nome > 1:\n",
        "  if tamanho_nome <= 4:\n",
        "    print(\"Seu nome eh curto\")\n",
        "  elif tamanho_nome <= 5 and tamanho_nome <= 6:\n",
        "    print(\"Seu nome eh normal\")\n",
        "  else:\n",
        "    print(\"Seu nome eh muito grande\")\n",
        "else:\n",
        "  print('Digite pelo menos uma letra')\n"
      ],
      "metadata": {
        "colab": {
          "base_uri": "https://localhost:8080/"
        },
        "id": "qb4cZBBmKsam",
        "outputId": "514756ed-e378-4ecd-9d41-8a4866625f34"
      },
      "execution_count": 50,
      "outputs": [
        {
          "output_type": "stream",
          "name": "stdout",
          "text": [
            "Digite seu nome: ezequias\n",
            "Seu nome eh muito grande\n"
          ]
        }
      ]
    },
    {
      "cell_type": "code",
      "source": [
        "entrada = input(\"Digite seu numero: \")\n",
        "\n",
        "if entrada.isdigit():\n",
        "  entrada_int = int(entrada)\n",
        "  par_impar = entrada_int % 2 == 0\n",
        "  print(f'O numero que voce digitou eh {\"par\" if par_impar else \"impar\"}')\n",
        "else:\n",
        "  print(\"voce nao digitou um numero inteiro\")\n"
      ],
      "metadata": {
        "colab": {
          "base_uri": "https://localhost:8080/"
        },
        "id": "iFDVmM1bFTll",
        "outputId": "bbe29ebf-9761-4b79-e642-d048934151c9"
      },
      "execution_count": 38,
      "outputs": [
        {
          "output_type": "stream",
          "name": "stdout",
          "text": [
            "Digite seu numero: 4237094723\n",
            "O numero que voce digitou eh impar\n"
          ]
        }
      ]
    }
  ]
}
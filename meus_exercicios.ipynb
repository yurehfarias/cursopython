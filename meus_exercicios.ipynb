{
  "nbformat": 4,
  "nbformat_minor": 0,
  "metadata": {
    "colab": {
      "provenance": [],
      "authorship_tag": "ABX9TyPiiuqAQu4enTctZgIn2ZAL",
      "include_colab_link": true
    },
    "kernelspec": {
      "name": "python3",
      "display_name": "Python 3"
    },
    "language_info": {
      "name": "python"
    }
  },
  "cells": [
    {
      "cell_type": "markdown",
      "metadata": {
        "id": "view-in-github",
        "colab_type": "text"
      },
      "source": [
        "<a href=\"https://colab.research.google.com/github/yurehfarias/cursopython/blob/main/meus_exercicios.ipynb\" target=\"_parent\"><img src=\"https://colab.research.google.com/assets/colab-badge.svg\" alt=\"Open In Colab\"/></a>"
      ]
    },
    {
      "cell_type": "code",
      "source": [
        "from google.colab import drive\n",
        "drive.mount('/content/drive')\n",
        "\n",
        "!git config --global user.email \"yhenrique5647@gmail.com\"\n",
        "!git config --global user.name \"yurehfarias\"\n",
        "\n",
        "!git clone https://github.com/yurehfarias/cursopython"
      ],
      "metadata": {
        "colab": {
          "base_uri": "https://localhost:8080/"
        },
        "id": "Ecn4DrLlVcZl",
        "outputId": "0b0658f8-2f61-497f-fae4-30fd1187b30b"
      },
      "execution_count": null,
      "outputs": [
        {
          "output_type": "stream",
          "name": "stdout",
          "text": [
            "Mounted at /content/drive\n",
            "Cloning into 'cursopython'...\n",
            "remote: Enumerating objects: 8, done.\u001b[K\n",
            "remote: Counting objects: 100% (8/8), done.\u001b[K\n",
            "remote: Compressing objects: 100% (8/8), done.\u001b[K\n",
            "remote: Total 8 (delta 1), reused 0 (delta 0), pack-reused 0\u001b[K\n",
            "Receiving objects: 100% (8/8), 4.69 KiB | 4.69 MiB/s, done.\n",
            "Resolving deltas: 100% (1/1), done.\n"
          ]
        }
      ]
    },
    {
      "cell_type": "code",
      "execution_count": null,
      "metadata": {
        "colab": {
          "base_uri": "https://localhost:8080/"
        },
        "id": "o67IOz0W7gLg",
        "outputId": "0ebb653b-3a52-49fb-c73f-49d8485e0551"
      },
      "outputs": [
        {
          "output_type": "stream",
          "name": "stdout",
          "text": [
            "Que horas sao?15\n",
            "Boa tarde, são exatamente 15 horas da tarde.\n"
          ]
        }
      ],
      "source": [
        "hora = input('Que horas sao?')\n",
        "\n",
        "if int(hora) < 12:\n",
        "    print(f'Bom dia, são exatamente {hora} horas da manhã.')\n",
        "\n",
        "elif int(hora) < 18:\n",
        "    print(f'Boa tarde, são exatamente {hora} horas da tarde.')\n",
        "\n",
        "elif int(hora) > 18:\n",
        "   print(f'Boa noite, são exatamente {hora} horas da noite.')"
      ]
    },
    {
      "cell_type": "code",
      "source": [
        "#segunda opcao do programa das horas\n",
        "\n",
        "entrada = input(\"Que horas sao?\")\n",
        "\n",
        "try:\n",
        "  hora = int(entrada)\n",
        "\n",
        "  if hora >= 0 and hora <= 11:\n",
        "    print('Bom dia')\n",
        "  elif hora >= 12 and hora <= 17:\n",
        "    print('Boa tarde')\n",
        "  elif hora >= 18 and hora <= 23:\n",
        "    print('Boa noite.')\n",
        "except:\n",
        "  print(\"nao sei que hora eh essa\")\n"
      ],
      "metadata": {
        "colab": {
          "base_uri": "https://localhost:8080/"
        },
        "id": "eExBGUh3IvYc",
        "outputId": "95401b93-8eba-47fc-9691-bb6848ff2029"
      },
      "execution_count": null,
      "outputs": [
        {
          "output_type": "stream",
          "name": "stdout",
          "text": [
            "Que horas sao?15\n",
            "Boa tarde\n"
          ]
        }
      ]
    },
    {
      "cell_type": "code",
      "source": [
        "nome = input(\"Digite seu nome: \")\n",
        "numero_de_letras = len(nome)\n",
        "\n",
        "if numero_de_letras < 5:\n",
        "  print('Seu nome eh pequeno')\n",
        "\n",
        "elif numero_de_letras < 7:\n",
        "  print('Seu nome eh normal')\n",
        "\n",
        "else:\n",
        "  print('Seu nome eh muito grande')"
      ],
      "metadata": {
        "colab": {
          "base_uri": "https://localhost:8080/"
        },
        "id": "nMqBUrVp-sIz",
        "outputId": "68fd2c24-21de-4ed6-f4af-8d0cad524aed"
      },
      "execution_count": null,
      "outputs": [
        {
          "output_type": "stream",
          "name": "stdout",
          "text": [
            "Digite seu nome: anderson\n",
            "Seu nome eh muito grande\n"
          ]
        }
      ]
    },
    {
      "cell_type": "code",
      "source": [
        "#outra opcao do codigo sobre tamanho do nome\n",
        "\n",
        "nome = input('Digite seu nome: ')\n",
        "tamanho_nome = len(nome)\n",
        "\n",
        "if tamanho_nome > 1:\n",
        "  if tamanho_nome <= 4:\n",
        "    print(\"Seu nome eh curto\")\n",
        "  elif tamanho_nome <= 5 and tamanho_nome <= 6:\n",
        "    print(\"Seu nome eh normal\")\n",
        "  else:\n",
        "    print(\"Seu nome eh muito grande\")\n",
        "else:\n",
        "  print('Digite pelo menos uma letra')\n"
      ],
      "metadata": {
        "colab": {
          "base_uri": "https://localhost:8080/"
        },
        "id": "qb4cZBBmKsam",
        "outputId": "514756ed-e378-4ecd-9d41-8a4866625f34"
      },
      "execution_count": null,
      "outputs": [
        {
          "output_type": "stream",
          "name": "stdout",
          "text": [
            "Digite seu nome: ezequias\n",
            "Seu nome eh muito grande\n"
          ]
        }
      ]
    },
    {
      "cell_type": "code",
      "source": [
        "entrada = input(\"Digite seu numero: \")\n",
        "\n",
        "if entrada.isdigit():\n",
        "  entrada_int = int(entrada)\n",
        "  par_impar = entrada_int % 2 == 0\n",
        "  print(f'O numero que voce digitou eh {\"par\" if par_impar else \"impar\"}')\n",
        "else:\n",
        "  print(\"voce nao digitou um numero inteiro\")\n"
      ],
      "metadata": {
        "colab": {
          "base_uri": "https://localhost:8080/"
        },
        "id": "iFDVmM1bFTll",
        "outputId": "bbe29ebf-9761-4b79-e642-d048934151c9"
      },
      "execution_count": null,
      "outputs": [
        {
          "output_type": "stream",
          "name": "stdout",
          "text": [
            "Digite seu numero: 4237094723\n",
            "O numero que voce digitou eh impar\n"
          ]
        }
      ]
    },
    {
      "cell_type": "code",
      "source": [
        "#exercicio para treino do while com iteracao, colocando um \"*\" apos cada letra.\n",
        "i = 0\n",
        "nome = \"yure farias\"\n",
        "nome_novo = ''\n",
        "\n",
        "while i < len(nome):\n",
        "   letra = nome[i]\n",
        "   nome_novo += f'*{letra}'\n",
        "   i += 1\n",
        "\n",
        "print(nome_novo)\n"
      ],
      "metadata": {
        "colab": {
          "base_uri": "https://localhost:8080/"
        },
        "id": "q1vTA8yzLF2i",
        "outputId": "cb84c785-dd15-40cb-8a7a-15be0a37229b"
      },
      "execution_count": null,
      "outputs": [
        {
          "output_type": "stream",
          "name": "stdout",
          "text": [
            "*y*u*r*e* *f*a*r*i*a*s\n"
          ]
        }
      ]
    },
    {
      "cell_type": "code",
      "source": [
        "\n",
        "while True:\n",
        "    numero_1 = input('Primeiro valor: ')\n",
        "    numero_2 = input('Segundo valor: ')\n",
        "    operador = input(\"Digite o operador (+, -, /, *): \")\n",
        "\n",
        "    numeros_validos = None\n",
        "    num_01_float = 0\n",
        "    num_02_float = 0\n",
        "\n",
        "    try:\n",
        "        num_01_float = float(numero_1)\n",
        "        num_02_float = float(numero_2)\n",
        "        numeros_validos = True\n",
        "\n",
        "    except ValueError:\n",
        "      numeros_validos = None\n",
        "      print(\"Um ou ambos os numeros digitados sao invalidos\")\n",
        "      continue\n",
        "\n",
        "    operadores_permitidos = \"+-/*\"\n",
        "\n",
        "  # Check if the operator is valid\n",
        "    if operador not in operadores_permitidos:\n",
        "      print(\"Operador invalido\")\n",
        "      continue\n",
        "\n",
        "    #caso digite mais de um operador\n",
        "      if len(operador) > 1:\n",
        "        print(\"Digite apenas um operador\")\n",
        "        continue\n",
        "\n",
        "    print(\"Estou calculando seu resultado, aguarde um momento.\")\n",
        "\n",
        "    if operador == \"+\":\n",
        "      print(f\"{num_01_float} + {num_02_float}=\",num_01_float + num_02_float)\n",
        "\n",
        "    elif operador == \"-\":\n",
        "      print(f\"{num_01_float} - {num_02_float}=\",num_01_float - num_02_float)\n",
        "\n",
        "    elif operador == \"*\":\n",
        "      print(f\"{num_01_float} * {num_02_float}=\",num_01_float * num_02_float)\n",
        "\n",
        "    elif operador == \"/\":\n",
        "      print(f\"{num_01_float} / {num_02_float}=\",num_01_float / num_02_float)\n",
        "\n",
        "    sair = input('Quer sair? [s]im ').lower().startswith(\"s\")\n",
        "\n",
        "    if sair is True:\n",
        "      break"
      ],
      "metadata": {
        "id": "jgURPXu8SCNC",
        "colab": {
          "base_uri": "https://localhost:8080/"
        },
        "outputId": "faea953f-4448-4d7e-c13f-34e5c0be740b"
      },
      "execution_count": null,
      "outputs": [
        {
          "metadata": {
            "tags": null
          },
          "name": "stdout",
          "output_type": "stream",
          "text": [
            "Estou calculando seu resultado, aguarde um momento.\n",
            "67.0 + 7.8= 74.8\n"
          ]
        }
      ]
    }
  ]
}